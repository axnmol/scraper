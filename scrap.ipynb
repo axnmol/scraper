{
 "cells": [
  {
   "cell_type": "code",
   "execution_count": 1,
   "metadata": {},
   "outputs": [],
   "source": [
    "import os\n",
    "import json\n",
    "from selenium import webdriver\n",
    "from datetime import datetime, timedelta\n",
    "from booking import getBookingDataForCheckingInOut\n",
    "from expedia import getExpediaDataForCheckingInOut\n",
    "from selenium.webdriver.chrome.service import Service\n",
    "from selenium.webdriver.chrome.options import Options\n",
    "\n",
    "chromeDriverPath = \"./driver/chromedriver\"\n",
    "chromeOptions = Options()\n",
    "for arg in [\"--no-sandbox\", \"--disable-dev-shm-usage\"]:\n",
    "    chromeOptions.add_argument(arg)"
   ]
  },
  {
   "cell_type": "code",
   "execution_count": 2,
   "metadata": {},
   "outputs": [],
   "source": [
    "def collectDataForRange(range, isBooking):\n",
    "    dataList = []\n",
    "    startDate, endDate = range\n",
    "\n",
    "    while startDate < endDate:\n",
    "        checkIn = startDate.strftime(\"%Y-%m-%d\")\n",
    "        checkOut = (startDate + timedelta(days=1)).strftime(\"%Y-%m-%d\")\n",
    "        service = Service(chromeDriverPath)\n",
    "        driver = webdriver.Chrome(service=service, options=chromeOptions)\n",
    "        try:\n",
    "\n",
    "            data = (\n",
    "                getBookingDataForCheckingInOut(driver, checkIn, checkOut)\n",
    "                if isBooking\n",
    "                else getExpediaDataForCheckingInOut(driver, checkIn, checkOut)\n",
    "            )\n",
    "            print(f\"{len(data)} hotels available from {checkIn} to {checkOut}\")\n",
    "        except Exception:\n",
    "            data = []\n",
    "        driver.quit()\n",
    "        dataList.extend(data)\n",
    "        startDate += timedelta(days=1)\n",
    "    return dataList"
   ]
  },
  {
   "cell_type": "code",
   "execution_count": 3,
   "metadata": {},
   "outputs": [],
   "source": [
    "start, end = datetime(2024, 10, 1), datetime(2024, 10, 31)\n",
    "\n",
    "\n",
    "def getDataList(start, end, isBooking):\n",
    "    pholder = \"booking\" if isBooking else \"expedia\"\n",
    "    dataFile = f\"{pholder}_{start.strftime('%Y-%m-%d')}_{end.strftime('%Y-%m-%d')}.json\"\n",
    "    if os.path.exists(dataFile):\n",
    "        with open(dataFile, \"r\") as jsonFile:\n",
    "            return json.load(jsonFile)\n",
    "    else:\n",
    "        comData = collectDataForRange((start, end), isBooking)\n",
    "        with open(dataFile, \"w\") as jsonFile:\n",
    "            json.dump(comData, jsonFile, indent=4)\n",
    "        return comData\n",
    "\n",
    "\n",
    "bookingData = getDataList(start, end, isBooking=True)\n",
    "expediaData = getDataList(start, end, isBooking=False)"
   ]
  }
 ],
 "metadata": {
  "kernelspec": {
   "display_name": "base",
   "language": "python",
   "name": "python3"
  },
  "language_info": {
   "codemirror_mode": {
    "name": "ipython",
    "version": 3
   },
   "file_extension": ".py",
   "mimetype": "text/x-python",
   "name": "python",
   "nbconvert_exporter": "python",
   "pygments_lexer": "ipython3",
   "version": "3.11.4"
  }
 },
 "nbformat": 4,
 "nbformat_minor": 2
}
